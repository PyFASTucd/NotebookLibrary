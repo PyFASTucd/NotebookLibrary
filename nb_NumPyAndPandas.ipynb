{
 "cells": [
  {
   "cell_type": "markdown",
   "metadata": {},
   "source": [
    "## Numpy and Pandas\n",
    "\n",
    "numpy is great for doing numerical processes on arrays\n",
    "\n",
    "pandas shining ablity is to work with dataframes on tablular data"
   ]
  },
  {
   "cell_type": "markdown",
   "metadata": {},
   "source": [
    "### Import the libraries!"
   ]
  },
  {
   "cell_type": "code",
   "execution_count": 27,
   "metadata": {},
   "outputs": [],
   "source": [
    "import numpy as np\n",
    "import pandas as pd"
   ]
  },
  {
   "cell_type": "markdown",
   "metadata": {},
   "source": [
    "### Creating some simple fruit stand data"
   ]
  },
  {
   "cell_type": "code",
   "execution_count": 28,
   "metadata": {},
   "outputs": [],
   "source": [
    "# Creating and initializing a nested list \n",
    "# Let's say our fruit stand is selling apples, oranges and grapes\n",
    "\n",
    "fruit = [[2,3,8,4,10], [5,4,1,6,12], [1,0,2,2,5]]  # Our fruit array is showing how many were sold on each day\n",
    "price = [0.50,0.75,2.15]"
   ]
  },
  {
   "cell_type": "code",
   "execution_count": 29,
   "metadata": {},
   "outputs": [
    {
     "name": "stdout",
     "output_type": "stream",
     "text": [
      "   M  Tu  W  Th   F\n",
      "0  2   3  8   4  10\n",
      "1  5   4  1   6  12\n",
      "2  1   0  2   2   5\n"
     ]
    }
   ],
   "source": [
    "df = pd.DataFrame(fruit, columns=['M', 'Tu', 'W','Th','F']) \n",
    "print(df)\n",
    "#df.head(3)"
   ]
  },
  {
   "cell_type": "markdown",
   "metadata": {},
   "source": [
    "### Doing a pratical array calculation with numpy"
   ]
  },
  {
   "cell_type": "code",
   "execution_count": 30,
   "metadata": {},
   "outputs": [
    {
     "name": "stdout",
     "output_type": "stream",
     "text": [
      "[ 6.9   4.5   9.05 10.8  24.75]\n"
     ]
    }
   ],
   "source": [
    "# Creating numpy arrays for numerical calculations \n",
    "fruit = np.array([[2,3,8,4,10], [5,4,1,6,12], [1,0,2,2,5]]) \n",
    "price = np.array([0.50,0.75,2.15])\n",
    "\n",
    "#print(fruit.dtype, price.dtype)\n",
    "\n",
    "print(price@fruit)   # This will print out how much money was made each day\n",
    "\n"
   ]
  },
  {
   "cell_type": "markdown",
   "metadata": {},
   "source": [
    "### Using a pandas dataframe\n",
    "\n",
    "Now we'll pull in some data from an excel spread sheet!\n",
    "\n",
    "Download this file from https://github.com/PyFASTucd/NotebookLibrary/tree/main/data"
   ]
  },
  {
   "cell_type": "code",
   "execution_count": 41,
   "metadata": {
    "scrolled": true
   },
   "outputs": [
    {
     "data": {
      "text/html": [
       "<div>\n",
       "<style scoped>\n",
       "    .dataframe tbody tr th:only-of-type {\n",
       "        vertical-align: middle;\n",
       "    }\n",
       "\n",
       "    .dataframe tbody tr th {\n",
       "        vertical-align: top;\n",
       "    }\n",
       "\n",
       "    .dataframe thead th {\n",
       "        text-align: right;\n",
       "    }\n",
       "</style>\n",
       "<table border=\"1\" class=\"dataframe\">\n",
       "  <thead>\n",
       "    <tr style=\"text-align: right;\">\n",
       "      <th></th>\n",
       "      <th>name</th>\n",
       "      <th>type</th>\n",
       "      <th>hiking</th>\n",
       "      <th>horse</th>\n",
       "      <th>bike</th>\n",
       "      <th>motorcycle</th>\n",
       "      <th>atv</th>\n",
       "      <th>ohv_gt_50</th>\n",
       "      <th>highway_ve</th>\n",
       "      <th>dogs</th>\n",
       "      <th>access</th>\n",
       "      <th>min_elevat</th>\n",
       "      <th>max_elevat</th>\n",
       "      <th>length_mi_</th>\n",
       "      <th>Shape_Length</th>\n",
       "    </tr>\n",
       "  </thead>\n",
       "  <tbody>\n",
       "    <tr>\n",
       "      <th>0</th>\n",
       "      <td>Turkey Track Road</td>\n",
       "      <td>Road</td>\n",
       "      <td></td>\n",
       "      <td></td>\n",
       "      <td></td>\n",
       "      <td>yes</td>\n",
       "      <td>yes</td>\n",
       "      <td>yes</td>\n",
       "      <td>yes</td>\n",
       "      <td></td>\n",
       "      <td></td>\n",
       "      <td>2348.259766</td>\n",
       "      <td>2533.154541</td>\n",
       "      <td>3.4</td>\n",
       "      <td>5470.553253</td>\n",
       "    </tr>\n",
       "    <tr>\n",
       "      <th>1</th>\n",
       "      <td></td>\n",
       "      <td>Trail</td>\n",
       "      <td>yes</td>\n",
       "      <td></td>\n",
       "      <td>yes</td>\n",
       "      <td>no</td>\n",
       "      <td>no</td>\n",
       "      <td>no</td>\n",
       "      <td>no</td>\n",
       "      <td>leashed</td>\n",
       "      <td></td>\n",
       "      <td>1645.169189</td>\n",
       "      <td>1645.541016</td>\n",
       "      <td>0.1</td>\n",
       "      <td>128.739489</td>\n",
       "    </tr>\n",
       "    <tr>\n",
       "      <th>2</th>\n",
       "      <td></td>\n",
       "      <td>Trail</td>\n",
       "      <td>yes</td>\n",
       "      <td></td>\n",
       "      <td>yes</td>\n",
       "      <td>no</td>\n",
       "      <td>no</td>\n",
       "      <td>no</td>\n",
       "      <td>no</td>\n",
       "      <td>leashed</td>\n",
       "      <td></td>\n",
       "      <td>1605.059082</td>\n",
       "      <td>1605.582886</td>\n",
       "      <td>0.0</td>\n",
       "      <td>60.587207</td>\n",
       "    </tr>\n",
       "    <tr>\n",
       "      <th>3</th>\n",
       "      <td></td>\n",
       "      <td>Trail</td>\n",
       "      <td>yes</td>\n",
       "      <td></td>\n",
       "      <td>yes</td>\n",
       "      <td>no</td>\n",
       "      <td>no</td>\n",
       "      <td>no</td>\n",
       "      <td>no</td>\n",
       "      <td>leashed</td>\n",
       "      <td></td>\n",
       "      <td>1604.683960</td>\n",
       "      <td>1604.965088</td>\n",
       "      <td>0.0</td>\n",
       "      <td>15.045328</td>\n",
       "    </tr>\n",
       "    <tr>\n",
       "      <th>4</th>\n",
       "      <td></td>\n",
       "      <td>Trail</td>\n",
       "      <td>yes</td>\n",
       "      <td></td>\n",
       "      <td>yes</td>\n",
       "      <td>no</td>\n",
       "      <td>no</td>\n",
       "      <td>no</td>\n",
       "      <td>no</td>\n",
       "      <td>leashed</td>\n",
       "      <td></td>\n",
       "      <td>1604.671997</td>\n",
       "      <td>1605.205444</td>\n",
       "      <td>0.0</td>\n",
       "      <td>64.534193</td>\n",
       "    </tr>\n",
       "  </tbody>\n",
       "</table>\n",
       "</div>"
      ],
      "text/plain": [
       "                name   type hiking horse bike motorcycle  atv ohv_gt_50  \\\n",
       "0  Turkey Track Road   Road                          yes  yes       yes   \n",
       "1                     Trail    yes        yes         no   no        no   \n",
       "2                     Trail    yes        yes         no   no        no   \n",
       "3                     Trail    yes        yes         no   no        no   \n",
       "4                     Trail    yes        yes         no   no        no   \n",
       "\n",
       "  highway_ve     dogs access   min_elevat   max_elevat  length_mi_  \\\n",
       "0        yes                  2348.259766  2533.154541         3.4   \n",
       "1         no  leashed         1645.169189  1645.541016         0.1   \n",
       "2         no  leashed         1605.059082  1605.582886         0.0   \n",
       "3         no  leashed         1604.683960  1604.965088         0.0   \n",
       "4         no  leashed         1604.671997  1605.205444         0.0   \n",
       "\n",
       "   Shape_Length  \n",
       "0   5470.553253  \n",
       "1    128.739489  \n",
       "2     60.587207  \n",
       "3     15.045328  \n",
       "4     64.534193  "
      ]
     },
     "execution_count": 41,
     "metadata": {},
     "output_type": "execute_result"
    }
   ],
   "source": [
    "df = pd.read_excel('..\\data\\COTREXTrails_DenverArea_Table_reduced.xls') # Be sure to change this path to point to your data\n",
    "\n",
    "df.head()  # The default is to look at the first 5 rows"
   ]
  },
  {
   "cell_type": "code",
   "execution_count": null,
   "metadata": {},
   "outputs": [],
   "source": []
  }
 ],
 "metadata": {
  "kernelspec": {
   "display_name": "Python 3",
   "language": "python",
   "name": "python3"
  },
  "language_info": {
   "codemirror_mode": {
    "name": "ipython",
    "version": 3
   },
   "file_extension": ".py",
   "mimetype": "text/x-python",
   "name": "python",
   "nbconvert_exporter": "python",
   "pygments_lexer": "ipython3",
   "version": "3.8.5"
  }
 },
 "nbformat": 4,
 "nbformat_minor": 4
}
