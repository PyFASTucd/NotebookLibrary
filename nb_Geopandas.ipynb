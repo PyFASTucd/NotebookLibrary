{
 "cells": [
  {
   "cell_type": "markdown",
   "id": "british-former",
   "metadata": {},
   "source": [
    " ## An introduction to geopandas and creating geodataframes"
   ]
  },
  {
   "cell_type": "code",
   "execution_count": null,
   "id": "sufficient-prediction",
   "metadata": {},
   "outputs": [],
   "source": [
    "import os\n",
    "import pandas as pd\n",
    "import geopandas as gpd\n",
    "import matplotlib.pyplot as plt"
   ]
  },
  {
   "cell_type": "code",
   "execution_count": null,
   "id": "passive-giving",
   "metadata": {},
   "outputs": [],
   "source": [
    "# Be sure to set the appropriate path for your data for this notebook to work\n",
    "# If you are using the link from GitHub for a binder version of this notebook, simply use \"data/\"\n",
    "\n",
    "os.chdir(\"C:/Users/fritzdi/DataScience/data\")  # add your own directory path here!\n",
    "\n",
    "cwd = os.getcwd()\n",
    "print(cwd)"
   ]
  },
  {
   "cell_type": "code",
   "execution_count": null,
   "id": "preceding-enterprise",
   "metadata": {},
   "outputs": [],
   "source": [
    "# First, we'll work with a .csv in pandas\n",
    "\n",
    "df = pd.read_csv(\"DenverAirbnb-summarylistings.csv\")\n",
    "df.head(3)"
   ]
  },
  {
   "cell_type": "code",
   "execution_count": null,
   "id": "invalid-louis",
   "metadata": {},
   "outputs": [],
   "source": [
    "# Let's get a summary of our column headers\n",
    "\n",
    "list(df.columns)"
   ]
  },
  {
   "cell_type": "code",
   "execution_count": null,
   "id": "connected-salon",
   "metadata": {},
   "outputs": [],
   "source": [
    "# Now, we'll use geopandas to geo-enable our .csv since it has lat & lon data!\n",
    "\n",
    "gdf = gpd.GeoDataFrame(\n",
    "    df, geometry=gpd.points_from_xy(df.longitude, df.latitude))"
   ]
  },
  {
   "cell_type": "code",
   "execution_count": null,
   "id": "marked-management",
   "metadata": {},
   "outputs": [],
   "source": [
    "# We've added a geometry column at the end:\n",
    "\n",
    "list(gdf.columns)"
   ]
  },
  {
   "cell_type": "code",
   "execution_count": null,
   "id": "communist-ambassador",
   "metadata": {},
   "outputs": [],
   "source": [
    "gdf.head()"
   ]
  },
  {
   "cell_type": "code",
   "execution_count": null,
   "id": "interim-stream",
   "metadata": {},
   "outputs": [],
   "source": [
    "type(gdf)"
   ]
  },
  {
   "cell_type": "code",
   "execution_count": null,
   "id": "empirical-fever",
   "metadata": {},
   "outputs": [],
   "source": [
    "# The .plot() method in geopandas is based on matplotlib\n",
    "# there is an argument \"kind\" where the default is \"geo\" so it automagically makes a map\n",
    "\n",
    "gdf.plot()"
   ]
  },
  {
   "cell_type": "code",
   "execution_count": null,
   "id": "fitted-raise",
   "metadata": {},
   "outputs": [],
   "source": [
    "# Let's created a map plot with a base reference layer\n",
    "# And yes, geopandas can directly read shapefiles!\n",
    "\n",
    "denver = gpd.read_file(\"county_boundary_lines/county_boundary_lines.shp\")\n",
    "\n",
    "base = denver.plot()\n",
    "gdf.plot(ax=base, marker='*',color='green',markersize=3)\n",
    "plt.show()"
   ]
  },
  {
   "cell_type": "code",
   "execution_count": null,
   "id": "proprietary-bouquet",
   "metadata": {},
   "outputs": [],
   "source": [
    "# We can also explore our data with different plots by changing the \"kind\" argument:\n",
    "\n",
    "gdf.plot(kind='scatter', x=\"price\", y=\"number_of_reviews\")"
   ]
  },
  {
   "cell_type": "code",
   "execution_count": null,
   "id": "removable-clock",
   "metadata": {},
   "outputs": [],
   "source": [
    "census = gpd.read_file(\"census_tracts_2010/census_tracts_2010.shp\")"
   ]
  },
  {
   "cell_type": "code",
   "execution_count": null,
   "id": "gorgeous-gospel",
   "metadata": {},
   "outputs": [],
   "source": [
    "census.head(3)"
   ]
  },
  {
   "cell_type": "code",
   "execution_count": null,
   "id": "residential-message",
   "metadata": {},
   "outputs": [],
   "source": [
    "# Notice how there are so many columns (145!) we arent' shown all of them, but we can list them out if we want:\n",
    "\n",
    "# list(census.columns)"
   ]
  },
  {
   "cell_type": "code",
   "execution_count": null,
   "id": "packed-execution",
   "metadata": {},
   "outputs": [],
   "source": [
    "# Use the \"column\" argument, along with a numerical value attribute to make a choropleh map\n",
    "\n",
    "census.plot(column='PCT_BLACK', legend=True)"
   ]
  },
  {
   "cell_type": "code",
   "execution_count": null,
   "id": "exclusive-newport",
   "metadata": {},
   "outputs": [],
   "source": [
    "# The tree_canopy data is large and not loaded on GitHub, but you can download the zip and work with this locally\n",
    "# You can skip the section using this data - the following examples are similar\n",
    "\n",
    "trees = gpd.read_file(\"tree_canopy_assessment_2013___land_use/tree_canopy_assessment_2013___land_use.shp\")"
   ]
  },
  {
   "cell_type": "code",
   "execution_count": null,
   "id": "underlying-cooperative",
   "metadata": {},
   "outputs": [],
   "source": [
    "trees.plot(column='AREA_SQKM', legend=True)"
   ]
  },
  {
   "cell_type": "code",
   "execution_count": null,
   "id": "valuable-ancient",
   "metadata": {},
   "outputs": [],
   "source": [
    "trees.columns"
   ]
  },
  {
   "cell_type": "code",
   "execution_count": null,
   "id": "leading-homework",
   "metadata": {},
   "outputs": [],
   "source": [
    "# The only field we have that has less than 10 unique values is \"PROJECT_LU\" - all the others are numerical\n",
    "\n",
    "for item in trees.columns[:-1]:\n",
    "        uniquelist = trees[item].unique()\n",
    "        if uniquelist.flatten().shape[0]<10:\n",
    "            print(\"Column name {}\".format(item))\n",
    "            print(\"Unique values {}\".format(trees[item].unique()))\n",
    "            print(\"___________________________________\")"
   ]
  },
  {
   "cell_type": "code",
   "execution_count": null,
   "id": "organic-chapel",
   "metadata": {},
   "outputs": [],
   "source": [
    "# Here is a file on zoning for urban gardening that has more fields with unique values we may want to investigate:\n",
    "\n",
    "urbanzone = gpd.read_file(\"zoning_for_urban_gardens/zoning_for_urban_gardens.shp\")"
   ]
  },
  {
   "cell_type": "code",
   "execution_count": null,
   "id": "subtle-slovenia",
   "metadata": {},
   "outputs": [],
   "source": [
    "urbanzone.columns"
   ]
  },
  {
   "cell_type": "code",
   "execution_count": null,
   "id": "greek-complex",
   "metadata": {},
   "outputs": [],
   "source": [
    "urbanzone.plot()"
   ]
  },
  {
   "cell_type": "code",
   "execution_count": null,
   "id": "parental-merchant",
   "metadata": {},
   "outputs": [],
   "source": [
    "for item in urbanzone.columns[:-1]:\n",
    "        uniquelist = urbanzone[item].unique()\n",
    "        if uniquelist.flatten().shape[0]<12:\n",
    "            print(\"Column name {}\".format(item))\n",
    "            print(\"Unique values {}\".format(urbanzone[item].unique()))\n",
    "            print(\"___________________________________\")"
   ]
  },
  {
   "cell_type": "code",
   "execution_count": null,
   "id": "unique-affiliation",
   "metadata": {},
   "outputs": [],
   "source": [
    "trees.total_bounds  # If you don't have the trees data, this shows lat and lon bounds with a further extent than urbanzone"
   ]
  },
  {
   "cell_type": "code",
   "execution_count": null,
   "id": "recorded-nickel",
   "metadata": {},
   "outputs": [],
   "source": [
    "urbanzone.total_bounds"
   ]
  },
  {
   "cell_type": "code",
   "execution_count": null,
   "id": "downtown-lotus",
   "metadata": {},
   "outputs": [],
   "source": [
    "# Checking our coordinate reference system (they are important!):\n",
    "\n",
    "urbanzone.crs"
   ]
  },
  {
   "cell_type": "code",
   "execution_count": null,
   "id": "automated-wallace",
   "metadata": {},
   "outputs": [],
   "source": [
    "# Creating a filter for our data:\n",
    "\n",
    "urbanzoneedge = urbanzone[urbanzone['NBHD_CONTE']=='URBAN EDGE']"
   ]
  },
  {
   "cell_type": "code",
   "execution_count": null,
   "id": "geographic-hotel",
   "metadata": {},
   "outputs": [],
   "source": [
    "urbanzoneedge.plot()"
   ]
  },
  {
   "cell_type": "markdown",
   "id": "another-recycling",
   "metadata": {},
   "source": [
    "There are many more geospatial functions you can perform with geopandas and all of its dependencies!\n",
    "\n",
    "Use the documentation to explore: https://geopandas.org/docs.html"
   ]
  }
 ],
 "metadata": {
  "kernelspec": {
   "display_name": "Python 3",
   "language": "python",
   "name": "python3"
  },
  "language_info": {
   "codemirror_mode": {
    "name": "ipython",
    "version": 3
   },
   "file_extension": ".py",
   "mimetype": "text/x-python",
   "name": "python",
   "nbconvert_exporter": "python",
   "pygments_lexer": "ipython3",
   "version": "3.8.8"
  }
 },
 "nbformat": 4,
 "nbformat_minor": 5
}
